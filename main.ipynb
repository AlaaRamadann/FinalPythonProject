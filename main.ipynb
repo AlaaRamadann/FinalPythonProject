{
 "cells": [
  {
   "cell_type": "code",
   "execution_count": 24,
   "metadata": {},
   "outputs": [],
   "source": [
    "from EmployeeManager import EmployeeManager\n",
    "Manager=EmployeeManager()"
   ]
  },
  {
   "cell_type": "code",
   "execution_count": 25,
   "metadata": {},
   "outputs": [
    {
     "name": "stdout",
     "output_type": "stream",
     "text": [
      "\n",
      "    Welcome to the employee management system!\n",
      "\n",
      "    choose the option you want to select:  \n",
      "    1. Add an employee  \n",
      "    2. Update employee data  \n",
      "    3. Delete the person  \n",
      "    4. Search for an employee  \n",
      "    5. View all employees  \n",
      "    6. Exit\n",
      "    \n"
     ]
    },
    {
     "ename": "AttributeError",
     "evalue": "'EmployeeManager' object has no attribute 'Search_Employee'",
     "output_type": "error",
     "traceback": [
      "\u001b[1;31m---------------------------------------------------------------------------\u001b[0m",
      "\u001b[1;31mAttributeError\u001b[0m                            Traceback (most recent call last)",
      "Cell \u001b[1;32mIn[25], line 25\u001b[0m\n\u001b[0;32m     23\u001b[0m     Manager\u001b[38;5;241m.\u001b[39msave_to_csv()\n\u001b[0;32m     24\u001b[0m \u001b[38;5;28;01melif\u001b[39;00m choice \u001b[38;5;241m==\u001b[39m \u001b[38;5;241m4\u001b[39m:\n\u001b[1;32m---> 25\u001b[0m     \u001b[43mManager\u001b[49m\u001b[38;5;241;43m.\u001b[39;49m\u001b[43mSearch_Employee\u001b[49m()    \n\u001b[0;32m     26\u001b[0m \u001b[38;5;28;01melif\u001b[39;00m choice \u001b[38;5;241m==\u001b[39m \u001b[38;5;241m5\u001b[39m:\n\u001b[0;32m     27\u001b[0m     Manager\u001b[38;5;241m.\u001b[39mList_employees()\n",
      "\u001b[1;31mAttributeError\u001b[0m: 'EmployeeManager' object has no attribute 'Search_Employee'"
     ]
    }
   ],
   "source": [
    "while True:\n",
    "    print(\n",
    "    \"\"\"\n",
    "    Welcome to the employee management system!\n",
    "\n",
    "    choose the option you want to select:  \n",
    "    1. Add an employee  \n",
    "    2. Update employee data  \n",
    "    3. Delete the person  \n",
    "    4. Search for an employee  \n",
    "    5. View all employees  \n",
    "    6. Exit\n",
    "    \"\"\")\n",
    "    choice=int(input(\"Enter your choice: \"))\n",
    "    if choice == 1:\n",
    "        Manager.Add_Employee()\n",
    "        Manager.save_to_csv()\n",
    "    elif choice == 2:\n",
    "        Manager.Update_Employee()\n",
    "        Manager.save_to_csv()   \n",
    "    elif choice == 3:\n",
    "        Manager.Delete_Employee()\n",
    "        Manager.save_to_csv()\n",
    "    elif choice == 4:\n",
    "        Manager.Search_Employee()    \n",
    "    elif choice == 5:\n",
    "        Manager.List_employees()\n",
    "    elif choice == 6:\n",
    "        break \n"
   ]
  },
  {
   "cell_type": "code",
   "execution_count": null,
   "metadata": {},
   "outputs": [],
   "source": []
  }
 ],
 "metadata": {
  "kernelspec": {
   "display_name": "base",
   "language": "python",
   "name": "python3"
  },
  "language_info": {
   "codemirror_mode": {
    "name": "ipython",
    "version": 3
   },
   "file_extension": ".py",
   "mimetype": "text/x-python",
   "name": "python",
   "nbconvert_exporter": "python",
   "pygments_lexer": "ipython3",
   "version": "3.12.4"
  }
 },
 "nbformat": 4,
 "nbformat_minor": 2
}
