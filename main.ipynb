{
 "cells": [
  {
   "cell_type": "code",
   "execution_count": 8,
   "metadata": {},
   "outputs": [],
   "source": [
    "from EmployeeManager import EmployeeManager\n",
    "Manager=EmployeeManager()"
   ]
  },
  {
   "cell_type": "code",
   "execution_count": 9,
   "metadata": {},
   "outputs": [
    {
     "name": "stdout",
     "output_type": "stream",
     "text": [
      "\n",
      "    Welcome to the employee management system!\n",
      "\n",
      "    choose the option you want to select:  \n",
      "    1. Add an employee  \n",
      "    2. Update employee data  \n",
      "    3. Delete the person  \n",
      "    4. Search for an employee  \n",
      "    5. View all employees  \n",
      "    6. Exit\n",
      "    \n",
      "ID: 1, Name: alaa, Phone: 01152965312, Email: alaa@gmail.com\n",
      "Address: benisuef, Position: data scientist, Salary: 25000.0\n",
      "ID: 1, Name: alaa, Phone: 01152965312, Email: alaa@gmail.com\n",
      "Address: benisuef, Position: data scientist, Salary: 50000.0\n",
      "ID: 1, Name: alaa, Phone: 01152965312, Email: alaa@gmail.com\n",
      "Address: benisuef, Position: data scientist, Salary: 50000.0\n",
      "ID: 2, Name: menna, Phone: 0158966666, Email: menna@gmail.com\n",
      "Address: benisuef, Position: hr, Salary: 250000.0\n",
      "ID: 1, Name: alaa, Phone: 01152965312, Email: alaa@gmail.com\n",
      "Address: benisuef, Position: data scientist, Salary: 50000.0\n",
      "ID: 2, Name: menna, Phone: 0158966666, Email: menna@gmail.com\n",
      "Address: benisuef, Position: hr, Salary: 250000.0\n",
      "ID: 3, Name: mohamed, Phone: 0155599786, Email: mohamed@gmail.com\n",
      "Address: cairo, Position: manager, Salary: 10000.0\n",
      "ID: 1, Name: alaa, Phone: 01152965312, Email: alaa@gmail.com\n",
      "Address: benisuef, Position: data scientist, Salary: 50000.0\n",
      "ID: 2, Name: menna, Phone: 0158966666, Email: menna@gmail.com\n",
      "Address: benisuef, Position: hr, Salary: 250000.0\n",
      "\n",
      "    Welcome to the employee management system!\n",
      "\n",
      "    choose the option you want to select:  \n",
      "    1. Add an employee  \n",
      "    2. Update employee data  \n",
      "    3. Delete the person  \n",
      "    4. Search for an employee  \n",
      "    5. View all employees  \n",
      "    6. Exit\n",
      "    \n",
      "Employee found!\n",
      "An unexpected error occurred: name 'found_employee' is not defined\n",
      "\n",
      "    Welcome to the employee management system!\n",
      "\n",
      "    choose the option you want to select:  \n",
      "    1. Add an employee  \n",
      "    2. Update employee data  \n",
      "    3. Delete the person  \n",
      "    4. Search for an employee  \n",
      "    5. View all employees  \n",
      "    6. Exit\n",
      "    \n"
     ]
    }
   ],
   "source": [
    "while True:\n",
    "    print(\n",
    "    \"\"\"\n",
    "    Welcome to the employee management system!\n",
    "\n",
    "    choose the option you want to select:  \n",
    "    1. Add an employee  \n",
    "    2. Update employee data  \n",
    "    3. Delete the person  \n",
    "    4. Search for an employee  \n",
    "    5. View all employees  \n",
    "    6. Exit\n",
    "    \"\"\")\n",
    "    choice=int(input(\"Enter your choice: \"))\n",
    "    if choice == 1:\n",
    "        Manager.Add_Employee()\n",
    "        Manager.save_to_csv()\n",
    "    elif choice == 2:\n",
    "        Manager.Update_Employee()\n",
    "        Manager.save_to_csv()   \n",
    "    elif choice == 3:\n",
    "        Manager.Delete_Employee()\n",
    "        Manager.save_to_csv()\n",
    "    elif choice == 4:\n",
    "        Manager.Search_Employee()    \n",
    "    elif choice == 5:\n",
    "        Manager.List_employees()\n",
    "    elif choice == 6:\n",
    "        break \n"
   ]
  },
  {
   "cell_type": "code",
   "execution_count": null,
   "metadata": {},
   "outputs": [],
   "source": []
  }
 ],
 "metadata": {
  "kernelspec": {
   "display_name": "base",
   "language": "python",
   "name": "python3"
  },
  "language_info": {
   "codemirror_mode": {
    "name": "ipython",
    "version": 3
   },
   "file_extension": ".py",
   "mimetype": "text/x-python",
   "name": "python",
   "nbconvert_exporter": "python",
   "pygments_lexer": "ipython3",
   "version": "3.12.4"
  }
 },
 "nbformat": 4,
 "nbformat_minor": 2
}
